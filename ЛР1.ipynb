{
  "nbformat": 4,
  "nbformat_minor": 0,
  "metadata": {
    "colab": {
      "provenance": []
    },
    "kernelspec": {
      "name": "python3",
      "display_name": "Python 3"
    },
    "language_info": {
      "name": "python"
    }
  },
  "cells": [
    {
      "cell_type": "code",
      "source": [
        "import numpy as np\n",
        "import tensorflow as tf\n",
        "from tensorflow.keras.datasets import mnist\n",
        "from sklearn.preprocessing import OneHotEncoder"
      ],
      "metadata": {
        "id": "Ca7lHO6la2sg"
      },
      "execution_count": 90,
      "outputs": []
    },
    {
      "cell_type": "markdown",
      "source": [
        "Нормализуем данные"
      ],
      "metadata": {
        "id": "tY89ojZ9fudg"
      }
    },
    {
      "cell_type": "code",
      "source": [
        "(X_train, Y_train), (X_test, Y_test) = mnist.load_data()\n",
        "\n",
        "X_train = X_train.reshape(-1, 28*28).T / 255.0\n",
        "X_test = X_test.reshape(-1, 28*28).T / 255.0\n",
        "input_size = X_train.shape[0]\n",
        "hidden_size = 64\n",
        "output_size = 10\n"
      ],
      "metadata": {
        "id": "Q09PuZg5V8pW"
      },
      "execution_count": 91,
      "outputs": []
    },
    {
      "cell_type": "code",
      "source": [
        "def encode(Y):\n",
        "    result = np.zeros((Y.size, 10))\n",
        "    result[np.arange(Y.size), Y] = 1\n",
        "    return result.T"
      ],
      "metadata": {
        "id": "GR9iW-NqW8E7"
      },
      "execution_count": 92,
      "outputs": []
    },
    {
      "cell_type": "code",
      "source": [
        "def decode(Y):\n",
        "    return np.argmax(Y, axis=0)"
      ],
      "metadata": {
        "id": "FumeSW8HW9EJ"
      },
      "execution_count": 93,
      "outputs": []
    },
    {
      "cell_type": "code",
      "source": [
        "Y_train = encode(Y_train)\n",
        "Y_test = encode(Y_test)"
      ],
      "metadata": {
        "id": "Bx_57WTrXF3z"
      },
      "execution_count": 94,
      "outputs": []
    },
    {
      "cell_type": "markdown",
      "source": [
        "Функции активации\n"
      ],
      "metadata": {
        "id": "kwEw2ZaGfSKI"
      }
    },
    {
      "cell_type": "code",
      "source": [
        "def sigmoid(x):\n",
        "    return 1 / (1 + np.exp(-x))"
      ],
      "metadata": {
        "id": "Rq1I2ZXca5RZ"
      },
      "execution_count": 95,
      "outputs": []
    },
    {
      "cell_type": "code",
      "source": [
        "def sigmoid_derivative(x):\n",
        "    return x * (1 - x)"
      ],
      "metadata": {
        "id": "SNo8L0iDa8WP"
      },
      "execution_count": 96,
      "outputs": []
    },
    {
      "cell_type": "code",
      "source": [
        "def softmax(x):\n",
        "    exp_x = np.exp(x - np.max(x, axis=1, keepdims=True))\n",
        "    return exp_x / np.sum(exp_x, axis=1, keepdims=True)"
      ],
      "metadata": {
        "id": "LLHXnVYwa_Ky"
      },
      "execution_count": 97,
      "outputs": []
    },
    {
      "cell_type": "markdown",
      "source": [
        "Создание модели\n"
      ],
      "metadata": {
        "id": "mhm9LHLBfb2m"
      }
    },
    {
      "cell_type": "code",
      "source": [
        "class TwoLayerNN:\n",
        "    def __init__(self, input_size, hidden_size, output_size, learning_rate=0.01):\n",
        "        self.W1 = np.random.randn(hidden_size, input_size) * 0.01\n",
        "        self.b1 = np.zeros((hidden_size, 1))\n",
        "        self.W2 = np.random.randn(output_size, hidden_size) * 0.01\n",
        "        self.b2 = np.zeros((output_size, 1))\n",
        "        self.learning_rate = learning_rate\n",
        "\n",
        "    def forward(self, X):\n",
        "        self.Z1 = np.dot(self.W1, X) + self.b1\n",
        "        self.A1 = sigmoid(self.Z1)\n",
        "        self.Z2 = np.dot(self.W2, self.A1) + self.b2\n",
        "        self.A2 = softmax(self.Z2)\n",
        "        return self.A2\n",
        "\n",
        "    def backward(self, X, Y):\n",
        "        m = X.shape[1]\n",
        "        dZ2 = 10 - Y\n",
        "        dW2 = np.dot(dZ2, self.A1.T) / m\n",
        "        db2 = np.sum(dZ2, axis=1, keepdims=True) / m\n",
        "\n",
        "        dA1 = np.dot(self.W2.T, dZ2)\n",
        "        dZ1 = dA1 * sigmoid_derivative(self.A1)\n",
        "        dW1 = np.dot(dZ1, X.T) / m\n",
        "        db1 = np.sum(dZ1, axis=1, keepdims=True) / m\n",
        "\n",
        "        self.W1 -= self.learning_rate * dW1\n",
        "        self.b1 -= self.learning_rate * db1\n",
        "        self.W2 -= self.learning_rate * dW2\n",
        "        self.b2 -= self.learning_rate * db2\n",
        "\n",
        "    def train(self, X, Y, iterations):\n",
        "        for i in range(iterations):\n",
        "            self.forward(X)\n",
        "            self.backward(X, Y)\n",
        "            if i % 100 == 0:\n",
        "                loss = self.compute_loss(Y)\n",
        "                print(f\"Iteration {i}, Loss: {loss:.4f}\")\n",
        "\n",
        "    def compute_loss(self, Y):\n",
        "        m = Y.shape[0]\n",
        "        log_probs = -np.log(self.A2[np.arange(m), np.argmax(Y, axis=1)])\n",
        "        loss = np.sum(log_probs) / m\n",
        "        return loss\n",
        "\n",
        "    def predict(self, X):\n",
        "        output = self.forward(X)\n",
        "        return np.argmax(output, axis=0)"
      ],
      "metadata": {
        "id": "gy71DXNebDGq"
      },
      "execution_count": 98,
      "outputs": []
    },
    {
      "cell_type": "code",
      "source": [
        "def accuracy(predictions, labels):\n",
        "    return np.mean(predictions == labels)"
      ],
      "metadata": {
        "id": "SbKjyojpbKFP"
      },
      "execution_count": 99,
      "outputs": []
    },
    {
      "cell_type": "code",
      "source": [
        "iterations = 100\n",
        "learning_rate = 0.1\n",
        "nn = TwoLayerNN(input_size, hidden_size, output_size, learning_rate)\n",
        "nn.train(X_train, Y_train, iterations)\n",
        "\n"
      ],
      "metadata": {
        "colab": {
          "base_uri": "https://localhost:8080/"
        },
        "id": "QrfAWjfqbNs8",
        "outputId": "46a51797-e096-4edf-fe27-0b915191d1d0"
      },
      "execution_count": 100,
      "outputs": [
        {
          "output_type": "stream",
          "name": "stdout",
          "text": [
            "Iteration 0, Loss: 11.0026\n"
          ]
        }
      ]
    },
    {
      "cell_type": "code",
      "source": [
        "test_predictions = nn.predict(X_test)\n",
        "acc = accuracy(test_predictions, Y_test)\n",
        "print(f\"Test accuracy: {acc * 100:.2f}%\")"
      ],
      "metadata": {
        "id": "JEcac1nngnJQ",
        "outputId": "cb82edf3-ce46-474f-8081-f26c7c77ac4a",
        "colab": {
          "base_uri": "https://localhost:8080/"
        }
      },
      "execution_count": 103,
      "outputs": [
        {
          "output_type": "stream",
          "name": "stdout",
          "text": [
            "Test accuracy: 86.56%\n"
          ]
        }
      ]
    }
  ]
}